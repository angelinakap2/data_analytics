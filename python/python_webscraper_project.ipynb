{
 "cells": [
  {
   "cell_type": "code",
   "execution_count": 108,
   "id": "ae20f2ac",
   "metadata": {},
   "outputs": [],
   "source": [
    "from bs4 import BeautifulSoup\n",
    "import requests\n",
    "import time\n",
    "import datetime\n",
    "import smtplib"
   ]
  },
  {
   "cell_type": "code",
   "execution_count": 109,
   "id": "850f69b4",
   "metadata": {},
   "outputs": [],
   "source": [
    "# tell BeautifulSoups and requests where we are getting this data from\n",
    "# connect to website (amazon)\n",
    "\n",
    "URL = 'https://www.amazon.com/Ace-Data-Science-Interview-Questions/dp/0578973839/ref=sr_1_1_sspa?crid=23C3DMHY8374W&keywords=data+analyst&qid=1687543686&sprefix=data+analys%2Caps%2C118&sr=8-1-spons&sp_csd=d2lkZ2V0TmFtZT1zcF9hdGY&psc=1'\n",
    "\n",
    "# httpbin.org/get\n",
    "headers = {\"User-Agent\": \"Mozilla/5.0 (Windows NT 10.0; Win64; x64) AppleWebKit/537.36 (KHTML, like Gecko) Chrome/114.0.0.0 Safari/537.36\"}\n"
   ]
  },
  {
   "cell_type": "code",
   "execution_count": 114,
   "id": "f615363d",
   "metadata": {},
   "outputs": [],
   "source": [
    "page = requests.get(URL, headers = headers)\n",
    "\n",
    "soup1 = BeautifulSoup(page.content, \"html.parser\")\n",
    "\n",
    "soup2 = BeautifulSoup(soup1.prettify(), \"html.parser\")\n"
   ]
  },
  {
   "cell_type": "code",
   "execution_count": 115,
   "id": "5ca56f33",
   "metadata": {},
   "outputs": [],
   "source": [
    "title = soup2.find(id = 'productTitle').get_text()"
   ]
  },
  {
   "cell_type": "code",
   "execution_count": 116,
   "id": "33ceb5d5",
   "metadata": {},
   "outputs": [],
   "source": [
    "price = soup2.find(id = 'price').get_text()"
   ]
  },
  {
   "cell_type": "code",
   "execution_count": 117,
   "id": "83060f86",
   "metadata": {},
   "outputs": [
    {
     "name": "stdout",
     "output_type": "stream",
     "text": [
      "\n",
      "             Ace the Data Science Interview: 201 Real Interview Questions Asked By FAANG, Tech Startups, & Wall Street\n",
      "            \n",
      "\n",
      "                            $36.41\n",
      "                           \n"
     ]
    }
   ],
   "source": [
    "print(title)\n",
    "print(price)"
   ]
  },
  {
   "cell_type": "code",
   "execution_count": 118,
   "id": "b6e725e6",
   "metadata": {},
   "outputs": [
    {
     "name": "stdout",
     "output_type": "stream",
     "text": [
      "Ace the Data Science Interview: 201 Real Interview Questions Asked By FAANG, Tech Startups, & Wall Street\n",
      "36.41\n"
     ]
    }
   ],
   "source": [
    "price = price.strip()[1:]\n",
    "title = title.strip()\n",
    "\n",
    "print(title)\n",
    "print(price)"
   ]
  },
  {
   "cell_type": "code",
   "execution_count": 127,
   "id": "2cd0cea4",
   "metadata": {},
   "outputs": [
    {
     "name": "stdout",
     "output_type": "stream",
     "text": [
      "2023-06-23\n"
     ]
    }
   ],
   "source": [
    "import datetime\n",
    "\n",
    "today = datetime.date.today()\n",
    "\n",
    "print(today)"
   ]
  },
  {
   "cell_type": "code",
   "execution_count": 167,
   "id": "b610857f",
   "metadata": {},
   "outputs": [],
   "source": [
    "import csv\n",
    "\n",
    "header = ['Title', 'Price', 'Date']\n",
    "data = [title, price, today]\n",
    "\n",
    "\n",
    "with open('AmazonWebScrapeDataset.csv', 'w', newline = '', encoding = 'UTF8') as f:\n",
    "    writer = csv.writer(f) # creates file\n",
    "    writer.writerow(header) # adds header\n",
    "    writer.writerow(data) # adds data"
   ]
  },
  {
   "cell_type": "code",
   "execution_count": 168,
   "id": "50177344",
   "metadata": {},
   "outputs": [
    {
     "name": "stdout",
     "output_type": "stream",
     "text": [
      "                                               Title  Price        Date\n",
      "0  Ace the Data Science Interview: 201 Real Inter...  36.41  2023-06-23\n"
     ]
    }
   ],
   "source": [
    "import pandas as pd\n",
    "\n",
    "df = pd.read_csv(r'C:\\Users\\angel\\AmazonWebScrapeDataset.csv')\n",
    "\n",
    "print(df)"
   ]
  },
  {
   "cell_type": "code",
   "execution_count": 173,
   "id": "22edea91",
   "metadata": {},
   "outputs": [],
   "source": [
    "# appending data to the csv (a+)\n",
    "\n",
    "with open('AmazonWebScrapeDataset.csv', 'a+', newline = '', encoding = 'UTF8') as f:\n",
    "    writer = csv.writer(f) # creates file\n",
    "    writer.writerow(data) # adds data"
   ]
  },
  {
   "cell_type": "code",
   "execution_count": 176,
   "id": "58ac4fee",
   "metadata": {},
   "outputs": [],
   "source": [
    "\n",
    "def check_price():\n",
    "    URL = 'https://www.amazon.com/Ace-Data-Science-Interview-Questions/dp/0578973839/ref=sr_1_1_sspa?crid=23C3DMHY8374W&keywords=data+analyst&qid=1687543686&sprefix=data+analys%2Caps%2C118&sr=8-1-spons&sp_csd=d2lkZ2V0TmFtZT1zcF9hdGY&psc=1'\n",
    "    headers = {\"User-Agent\": \"Mozilla/5.0 (Windows NT 10.0; Win64; x64) AppleWebKit/537.36 (KHTML, like Gecko) Chrome/114.0.0.0 Safari/537.36\"}\n",
    "    page = requests.get(URL, headers = headers)\n",
    "    soup1 = BeautifulSoup(page.content, \"html.parser\")\n",
    "    soup2 = BeautifulSoup(soup1.prettify(), \"html.parser\")\n",
    "    title = soup2.find(id = 'productTitle').get_text()\n",
    "    price = soup2.find(id = 'price').get_text()\n",
    "\n",
    "    price = price.strip()[1:]\n",
    "    title = title.strip()\n",
    "    \n",
    "    import datetime\n",
    "    today = datetime.date.today()\n",
    "\n",
    "    import csv\n",
    "    header = ['Title', 'Price', 'Date']\n",
    "    data = [title, price, today]\n",
    "\n",
    "    with open('AmazonWebScrapeDataset.csv', 'w', newline = '', encoding = 'UTF8') as f:\n",
    "        writer = csv.writer(f) # creates file\n",
    "        writer.writerow(data) # adds data\n",
    "\n",
    "    \n",
    "    if (price < 14):\n",
    "        send_mail()\n",
    "        # if price drops under $14, it can send an email to you"
   ]
  },
  {
   "cell_type": "code",
   "execution_count": null,
   "id": "bcb58e10",
   "metadata": {},
   "outputs": [],
   "source": [
    "while(True):\n",
    "    check_price() # checks price every 5 seconds\n",
    "    time.sleep(5)"
   ]
  },
  {
   "cell_type": "code",
   "execution_count": 174,
   "id": "e6e57e7a",
   "metadata": {
    "scrolled": true
   },
   "outputs": [
    {
     "name": "stdout",
     "output_type": "stream",
     "text": [
      "                                               Title  Price        Date\n",
      "0  Ace the Data Science Interview: 201 Real Inter...  36.41  2023-06-23\n",
      "1  Ace the Data Science Interview: 201 Real Inter...  36.41  2023-06-23\n",
      "2  Ace the Data Science Interview: 201 Real Inter...  36.41  2023-06-23\n",
      "3  Ace the Data Science Interview: 201 Real Inter...  36.41  2023-06-23\n",
      "4  Ace the Data Science Interview: 201 Real Inter...  36.41  2023-06-23\n",
      "5  Ace the Data Science Interview: 201 Real Inter...  36.41  2023-06-23\n"
     ]
    }
   ],
   "source": [
    "import pandas as pd\n",
    "\n",
    "df = pd.read_csv(r'C:\\Users\\angel\\AmazonWebScrapeDataset.csv')\n",
    "\n",
    "print(df)"
   ]
  },
  {
   "cell_type": "code",
   "execution_count": 178,
   "id": "68e3e5fd",
   "metadata": {},
   "outputs": [],
   "source": [
    "def send_mail():\n",
    "    server = smtplib.SMTP_SSL('smtp.gmail.com',465)\n",
    "    server.ehlo()\n",
    "    #server.starttls()\n",
    "    server.ehlo()\n",
    "    server.login('angelinakap2@gmail.com', 'picklejuice1228')\n",
    "    \n",
    "    subject = \"The book you want is below $14! Now is your chance to buy!\"\n",
    "    body = \"Angelina, this is the moment we have been waiting for. Now is your chance to pick up the book of your dreams.\"\n",
    "    \n",
    "    msg = f\"Subject: {subject}\\n\\n{body}\"\n",
    "    \n",
    "    server.sendmail(\n",
    "            'angelinakap2@gmail.com',\n",
    "            msg\n",
    "            )\n",
    "    \n",
    "    \n",
    "    \n",
    "    \n",
    "    "
   ]
  },
  {
   "cell_type": "code",
   "execution_count": null,
   "id": "94071efa",
   "metadata": {},
   "outputs": [],
   "source": []
  }
 ],
 "metadata": {
  "kernelspec": {
   "display_name": "Python 3 (ipykernel)",
   "language": "python",
   "name": "python3"
  },
  "language_info": {
   "codemirror_mode": {
    "name": "ipython",
    "version": 3
   },
   "file_extension": ".py",
   "mimetype": "text/x-python",
   "name": "python",
   "nbconvert_exporter": "python",
   "pygments_lexer": "ipython3",
   "version": "3.9.13"
  }
 },
 "nbformat": 4,
 "nbformat_minor": 5
}
