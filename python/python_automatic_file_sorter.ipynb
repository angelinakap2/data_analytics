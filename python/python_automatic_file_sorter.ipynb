{
 "cells": [
  {
   "cell_type": "markdown",
   "id": "b34a74cb",
   "metadata": {},
   "source": [
    "# Automatic File Sorter in File Explorer"
   ]
  },
  {
   "cell_type": "code",
   "execution_count": 40,
   "id": "63d01879",
   "metadata": {},
   "outputs": [],
   "source": [
    "import os, shutil"
   ]
  },
  {
   "cell_type": "code",
   "execution_count": 41,
   "id": "17ef28d2",
   "metadata": {},
   "outputs": [],
   "source": [
    "# placing r reads it as a raw string\n",
    "path = r\"C:/Users/angel/Downloads/python_examples/\""
   ]
  },
  {
   "cell_type": "code",
   "execution_count": 42,
   "id": "174dee77",
   "metadata": {},
   "outputs": [
    {
     "data": {
      "text/plain": [
       "['angelina_kapiniaris_headshot.JPG', 'FakeFile.txt', 'Sales.csv']"
      ]
     },
     "execution_count": 42,
     "metadata": {},
     "output_type": "execute_result"
    }
   ],
   "source": [
    "# shows all files within path\n",
    "file_name = os.listdir(path)\n",
    "file_name"
   ]
  },
  {
   "cell_type": "code",
   "execution_count": 43,
   "id": "e3682eee",
   "metadata": {},
   "outputs": [
    {
     "name": "stdout",
     "output_type": "stream",
     "text": [
      "C:/Users/angel/Downloads/python_examples/csv files\n",
      "C:/Users/angel/Downloads/python_examples/image files\n",
      "C:/Users/angel/Downloads/python_examples/text files\n"
     ]
    }
   ],
   "source": [
    "# check if there is a folder, create it if it is not\n",
    "folder_names = ['csv files', 'image files', 'text files']\n",
    "\n",
    "for loop in range(0, 3):\n",
    "    if not os.path.exists(path + folder_names[loop]):\n",
    "        print((path + folder_names[loop]))\n",
    "        os.makedirs(path + folder_names[loop])"
   ]
  },
  {
   "cell_type": "code",
   "execution_count": 44,
   "id": "0f9189c6",
   "metadata": {},
   "outputs": [],
   "source": [
    "# place files in newly created folders\n",
    "for file in file_name:\n",
    "    if \".csv\" in file and not os.path.exists(path + \"csv files/\" + file):\n",
    "        shutil.move(path + file, path + \"csv files/\" + file)\n",
    "    elif \".JPG\" in file and not os.path.exists(path + \"image files/\" + file):\n",
    "        shutil.move(path + file, path + \"image files/\" + file)\n",
    "    elif \".txt\" in file and not os.path.exists(path + \"text files/\" + file):\n",
    "        shutil.move(path + file, path + \"text files/\" + file)"
   ]
  }
 ],
 "metadata": {
  "kernelspec": {
   "display_name": "Python 3 (ipykernel)",
   "language": "python",
   "name": "python3"
  },
  "language_info": {
   "codemirror_mode": {
    "name": "ipython",
    "version": 3
   },
   "file_extension": ".py",
   "mimetype": "text/x-python",
   "name": "python",
   "nbconvert_exporter": "python",
   "pygments_lexer": "ipython3",
   "version": "3.9.13"
  }
 },
 "nbformat": 4,
 "nbformat_minor": 5
}
